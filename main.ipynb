{
 "cells": [
  {
   "cell_type": "code",
   "execution_count": 1,
   "id": "f2d9c085",
   "metadata": {},
   "outputs": [
    {
     "ename": "ModuleNotFoundError",
     "evalue": "No module named 'db_credentials'",
     "output_type": "error",
     "traceback": [
      "\u001b[0;31m---------------------------------------------------------------------------\u001b[0m",
      "\u001b[0;31mModuleNotFoundError\u001b[0m                       Traceback (most recent call last)",
      "Input \u001b[0;32mIn [1]\u001b[0m, in \u001b[0;36m<cell line: 2>\u001b[0;34m()\u001b[0m\n\u001b[1;32m      1\u001b[0m \u001b[38;5;66;03m# variables\u001b[39;00m\n\u001b[0;32m----> 2\u001b[0m \u001b[38;5;28;01mfrom\u001b[39;00m \u001b[38;5;21;01mdb_credentials\u001b[39;00m \u001b[38;5;28;01mimport\u001b[39;00m datawarehouse_db_config, sqlserver_db_config, mysql_db_config\n\u001b[1;32m      3\u001b[0m \u001b[38;5;28;01mfrom\u001b[39;00m \u001b[38;5;21;01msql_queries\u001b[39;00m \u001b[38;5;28;01mimport\u001b[39;00m sqlserver_queries, mysql_queries\n\u001b[1;32m      5\u001b[0m \u001b[38;5;66;03m# methods\u001b[39;00m\n",
      "\u001b[0;31mModuleNotFoundError\u001b[0m: No module named 'db_credentials'"
     ]
    }
   ],
   "source": [
    "# variables\n",
    "from db_credentials import datawarehouse_db_config, sqlserver_db_config, mysql_db_config\n",
    "from sql_queries import sqlserver_queries, mysql_queries\n",
    "\n",
    "# methods\n",
    "from etl import etl_process\n",
    "def main():\n",
    "  print('starting the etl data process')\n",
    "\t\n",
    "  # establish connection for SQL Server, desired destination storage\n",
    "  target_cnx = pyodbc.connect(**datawarehouse_db_config)\n",
    "\t\n",
    "  # looping through credentials\n",
    "  # Database > mysql\n",
    "  for config in mysql_db_config: \n",
    "    try:\n",
    "      print(\"loading db: \" + config['database'])\n",
    "      etl_process(mysql_queries, target_cnx, config, 'mysql')\n",
    "    except Exception as error:\n",
    "      print(\"etl for {} has error\".format(config['database']))\n",
    "      print('error message: {}'.format(error))\n",
    "      continue\n",
    "\t\n",
    "  # Database > sql-server\n",
    "  for config in sqlserver_db_config: \n",
    "    try:\n",
    "      print(\"loading db: \" + config['database'])\n",
    "      etl_process(sqlserver_queries, target_cnx, config, 'sqlserver')\n",
    "    except Exception as error:\n",
    "      print(\"etl for {} has error\".format(config['database']))\n",
    "      print('error message: {}'.format(error))\n",
    "      continue\n",
    "\n",
    "  target_cnx.close()\n",
    "if __name__ == \"__main__\":\n",
    "  main()"
   ]
  },
  {
   "cell_type": "code",
   "execution_count": null,
   "id": "48da2240",
   "metadata": {},
   "outputs": [],
   "source": []
  }
 ],
 "metadata": {
  "kernelspec": {
   "display_name": "Python 3 (ipykernel)",
   "language": "python",
   "name": "python3"
  },
  "language_info": {
   "codemirror_mode": {
    "name": "ipython",
    "version": 3
   },
   "file_extension": ".py",
   "mimetype": "text/x-python",
   "name": "python",
   "nbconvert_exporter": "python",
   "pygments_lexer": "ipython3",
   "version": "3.9.12"
  }
 },
 "nbformat": 4,
 "nbformat_minor": 5
}
