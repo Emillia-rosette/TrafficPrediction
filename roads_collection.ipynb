{
 "cells": [
  {
   "cell_type": "code",
   "execution_count": 34,
   "id": "ed0a386a",
   "metadata": {},
   "outputs": [],
   "source": [
    "import os\n",
    "import requests\n",
    "import json\n",
    "import csv\n",
    "import pandas as pd\n",
    "\n",
    "#collect data - fetching\n",
    "api_token = \"310b434c31f04f74b74901ecdd6fff45\"\n",
    "roads = \"https://api.tfl.gov.uk/Road\"\n",
    "\n",
    "\n",
    "headers = {'Content-Type': 'application/json',\n",
    "           'Authorization': 'Bearer {0}'.format(api_token)}\n",
    "\n",
    "response = requests.get(roads , headers=headers)\n",
    "\n",
    "def jprint(obj):\n",
    "        # create a formatted string of the Python JSON object\n",
    "        text = json.dumps(obj, sort_keys=True, indent=6)\n",
    "        print(text)\n",
    "\n",
    "\n",
    "df.to_csv('/Users/emillianlandu/Desktop/Research/FinalProject/test.csv', encoding='utf-8', index=False)\n",
    "\n",
    "# instantiating the bucket from the code\n",
    "# os.environ['GOOGLE_APPLICATION_CREDENTIALS'] = 'ServiceKey-GoogleCloud.json'\n",
    "#\n",
    "# storage_client = storage.Client()\n",
    "#\n",
    "# dir(storage_client)\n",
    "#\n",
    "# '''''create a new bucket in GCP'''\n",
    "# bucket_name = 'traffic_prediction-phd'\n",
    "# bucket = storage_client.bucket(bucket_name)\n",
    "# bucket.location = 'eu'\n",
    "# bucket = storage_client.create_bucket(bucket)\n",
    "\n",
    "#store the data bucket\n",
    "#schedule data to fetch from time to time\n",
    "\n"
   ]
  },
  {
   "cell_type": "code",
   "execution_count": null,
   "id": "cb8dbaec",
   "metadata": {},
   "outputs": [],
   "source": []
  }
 ],
 "metadata": {
  "kernelspec": {
   "display_name": "Python 3 (ipykernel)",
   "language": "python",
   "name": "python3"
  },
  "language_info": {
   "codemirror_mode": {
    "name": "ipython",
    "version": 3
   },
   "file_extension": ".py",
   "mimetype": "text/x-python",
   "name": "python",
   "nbconvert_exporter": "python",
   "pygments_lexer": "ipython3",
   "version": "3.9.12"
  }
 },
 "nbformat": 4,
 "nbformat_minor": 5
}
