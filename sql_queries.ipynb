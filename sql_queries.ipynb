{
 "cells": [
  {
   "cell_type": "code",
   "execution_count": 2,
   "id": "e88ac9f1",
   "metadata": {},
   "outputs": [
    {
     "ename": "NameError",
     "evalue": "name 'SqlQuery' is not defined",
     "output_type": "error",
     "traceback": [
      "\u001b[0;31m---------------------------------------------------------------------------\u001b[0m",
      "\u001b[0;31mNameError\u001b[0m                                 Traceback (most recent call last)",
      "Input \u001b[0;32mIn [2]\u001b[0m, in \u001b[0;36m<cell line: 26>\u001b[0;34m()\u001b[0m\n\u001b[1;32m     24\u001b[0m     \u001b[38;5;28mself\u001b[39m\u001b[38;5;241m.\u001b[39mload_query \u001b[38;5;241m=\u001b[39m load_query   \n\u001b[1;32m     25\u001b[0m \u001b[38;5;66;03m# create instances for Sql_Query class\u001b[39;00m\n\u001b[0;32m---> 26\u001b[0m sqlserver_query \u001b[38;5;241m=\u001b[39m \u001b[43mSqlQuery\u001b[49m(sqlserver_extract, sqlserver_insert)\n\u001b[1;32m     27\u001b[0m mysql_query \u001b[38;5;241m=\u001b[39m SqlQuery(mysql_extract, mysql_insert)\n\u001b[1;32m     28\u001b[0m \u001b[38;5;66;03m# creating a list for iterating through values\u001b[39;00m\n",
      "\u001b[0;31mNameError\u001b[0m: name 'SqlQuery' is not defined"
     ]
    }
   ],
   "source": [
    "# example queries, will be unique for different database platforms\n",
    "\n",
    "sqlserver_extract = ('''\n",
    "  SELECT sqlserver_col_1, sqlserver_col_2, sqlserver_col_3\n",
    "  FROM sqlserver_1_table\n",
    "''')\n",
    "sqlserver_insert = ('''\n",
    "  INSERT INTO table_demo (col_1, col_2, col_3)\n",
    "  VALUES (?, ?, ?)  \n",
    "''')\n",
    "mysql_extract = ('''\n",
    "  SELECT mysql_col_1, mysql_col_2, mysql_col_3\n",
    "  FROM mysql_demo_table\n",
    "''')\n",
    "mysql_insert = ('''\n",
    "  INSERT INTO table_demo (col_1, col_2, col_3)\n",
    "  VALUES (?, ?, ?)  \n",
    "''')\n",
    "\n",
    "# Queries getting exported\n",
    "class Sql_Query:\n",
    "  def __init__(self, extract_query, load_query):\n",
    "    self.extract_query = extract_query\n",
    "    self.load_query = load_query   \n",
    "# create instances for Sql_Query class\n",
    "sqlserver_query = SqlQuery(sqlserver_extract, sqlserver_insert)\n",
    "mysql_query = SqlQuery(mysql_extract, mysql_insert)\n",
    "# creating a list for iterating through values\n",
    "mysql_queries = [mysql_query]\n",
    "sqlserver_queries = [sqlserver_query]"
   ]
  },
  {
   "cell_type": "code",
   "execution_count": null,
   "id": "8cf0ef7a",
   "metadata": {},
   "outputs": [],
   "source": []
  }
 ],
 "metadata": {
  "kernelspec": {
   "display_name": "Python 3 (ipykernel)",
   "language": "python",
   "name": "python3"
  },
  "language_info": {
   "codemirror_mode": {
    "name": "ipython",
    "version": 3
   },
   "file_extension": ".py",
   "mimetype": "text/x-python",
   "name": "python",
   "nbconvert_exporter": "python",
   "pygments_lexer": "ipython3",
   "version": "3.9.12"
  }
 },
 "nbformat": 4,
 "nbformat_minor": 5
}
