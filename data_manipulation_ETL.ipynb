{
 "cells": [
  {
   "cell_type": "code",
   "execution_count": 1,
   "id": "3d1f760c",
   "metadata": {},
   "outputs": [],
   "source": [
    "# import packages\n",
    "import pandas as pd\n",
    "import numpy as np\n",
    "import seaborn as sns\n",
    "import csv\n",
    "import matplotlib.pyplot as plt\n",
    "import xml.etree.ElementTree as ET \n",
    "from datetime import datetime\n",
    "\n",
    "# with open('/Users/emillianlandu/Desktop/Research/FinalProject/status.json', encoding='utf-8') as inputfile:\n",
    "#     df = pd.read_json(inputfile)\n",
    "\n",
    "# df.to_csv('/Users/emillianlandu/Desktop/Research/FinalProject/status.csv', encoding='utf-8', index=False)\n",
    "\n",
    "# read the data files\n",
    "roads = pd.read_csv('/Users/emillianlandu/Desktop/Research/FinalProject/road.csv')\n",
    "camera = pd.read_csv('/Users/emillianlandu/Desktop/Research/FinalProject/camera.csv')\n",
    "disruption = pd.read_csv('/Users/emillianlandu/Desktop/Research/FinalProject/disruption.csv')\n",
    "status = pd.read_csv('/Users/emillianlandu/Desktop/Research/FinalProject/status.csv')\n",
    "\n",
    "# Remove column name 'A'\n",
    "# remove = roads.drop(['$type'], axis=1)\n",
    "\n",
    "# remove.to_csv('/Users/emillianlandu/Desktop/Research/FinalProject/road.csv', encoding='utf-8', index=False)\n",
    "# print(camera)\n",
    "\n",
    "# data.head(50)\n",
    "# plt.plot(camera['lat'], camera['lon'])\n",
    "\n",
    "\n",
    "def log(message):\n",
    "    timestamp_format = '%H:%M:%S-%h-%d-%Y'\n",
    "    #Hour-Minute-Second-MonthName-Day-Year\n",
    "    now = datetime.now() # get current timestamp\n",
    "    timestamp = now.strftime(timestamp_format)\n",
    "    with open(\"dealership_logfile.txt\",\"a\") as f: f.write(timestamp + ',' + message + 'n')\n",
    "\n",
    "\n",
    "log(\"ETL Job Started\")\n"
   ]
  },
  {
   "cell_type": "code",
   "execution_count": null,
   "id": "9d7cd9d2",
   "metadata": {},
   "outputs": [],
   "source": []
  },
  {
   "cell_type": "code",
   "execution_count": null,
   "id": "637eeb43",
   "metadata": {},
   "outputs": [],
   "source": []
  }
 ],
 "metadata": {
  "kernelspec": {
   "display_name": "Python 3 (ipykernel)",
   "language": "python",
   "name": "python3"
  },
  "language_info": {
   "codemirror_mode": {
    "name": "ipython",
    "version": 3
   },
   "file_extension": ".py",
   "mimetype": "text/x-python",
   "name": "python",
   "nbconvert_exporter": "python",
   "pygments_lexer": "ipython3",
   "version": "3.9.12"
  }
 },
 "nbformat": 4,
 "nbformat_minor": 5
}
