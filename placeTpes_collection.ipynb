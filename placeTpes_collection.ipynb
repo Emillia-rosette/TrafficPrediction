{
 "cells": [
  {
   "cell_type": "code",
   "execution_count": 1,
   "id": "434e37bd",
   "metadata": {},
   "outputs": [],
   "source": [
    "import requests\n",
    "import json\n",
    "import csv\n",
    "\n",
    "#collect data - fetching\n",
    "api_token = \"310b434c31f04f74b74901ecdd6fff45\"\n",
    "urlcomp = 'https://api.tfl.gov.uk/Place/Meta/PlaceTypes'\n",
    "headers = { 'Authorization': 'Bearer {0}'.format(api_token), 'accept': \"application/json\", 'accept': \"text/csv\"}\n",
    "\n",
    "## API Call to retrieve report\n",
    "rcomp = requests.get(urlcomp, headers=headers)\n",
    "\n",
    "## API Results\n",
    "data = rcomp.text\n",
    "        \n",
    "# Get JSON Data\n",
    "rcomp = requests.get(urlcomp, headers=headers)\n",
    "\n",
    "# Write to .CSV\n",
    "f = open('/Users/emillianlandu/Desktop/Research/FinalProject/placeTypes.csv', \"w\")\n",
    "f.write(rcomp.text)\n",
    "f.close() \n",
    "\n",
    "\n",
    "\n",
    "\n",
    "\n"
   ]
  },
  {
   "cell_type": "code",
   "execution_count": null,
   "id": "0c638b38",
   "metadata": {},
   "outputs": [],
   "source": []
  }
 ],
 "metadata": {
  "kernelspec": {
   "display_name": "Python 3 (ipykernel)",
   "language": "python",
   "name": "python3"
  },
  "language_info": {
   "codemirror_mode": {
    "name": "ipython",
    "version": 3
   },
   "file_extension": ".py",
   "mimetype": "text/x-python",
   "name": "python",
   "nbconvert_exporter": "python",
   "pygments_lexer": "ipython3",
   "version": "3.9.12"
  }
 },
 "nbformat": 4,
 "nbformat_minor": 5
}
