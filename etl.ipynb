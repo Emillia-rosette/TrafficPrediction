{
 "cells": [
  {
   "cell_type": "code",
   "execution_count": 2,
   "id": "f17f9ab6",
   "metadata": {},
   "outputs": [
    {
     "ename": "IndentationError",
     "evalue": "unindent does not match any outer indentation level (<tokenize>, line 20)",
     "output_type": "error",
     "traceback": [
      "\u001b[0;36m  File \u001b[0;32m<tokenize>:20\u001b[0;36m\u001b[0m\n\u001b[0;31m    else:\u001b[0m\n\u001b[0m    ^\u001b[0m\n\u001b[0;31mIndentationError\u001b[0m\u001b[0;31m:\u001b[0m unindent does not match any outer indentation level\n"
     ]
    }
   ],
   "source": [
    "# python-based modules\n",
    "import pyodbc\n",
    "import mysql.connector\n",
    "\n",
    "def etl(query, source_cnx, target_cnx):\n",
    "  # extract data from demo source database\n",
    "  source_cursor = source_cnx.cursor()\n",
    "  source_cursor.execute(query.extract_query)\n",
    "  data = source_cursor.fetchall()\n",
    "  source_cursor.close()\n",
    "\n",
    "  # load data into demo Data Warehouse db\n",
    "  \n",
    "if data:\n",
    "    target_cursor = target_cnx.cursor()\n",
    "    target_cursor.execute(\"USE {}\".format(name_for_datawarehouse))\n",
    "    target_cursor.executemany(query.load_query, data)\n",
    "    print('data loaded to the demo Data Warehouse db')\n",
    "    target_cursor.close()\n",
    "  else:\n",
    "    print('data is empty')\n",
    "\n",
    "def etl_process(queries, target_cnx, source_db_config, db_platform):\n",
    "\n",
    "  # configuring demo source database connection\n",
    "  if db_platform == 'mysql':\n",
    "    source_cnx = mysql.connector.connect(**source_db_config)\n",
    "  elif db_platform == 'sqlserver':\n",
    "    source_cnx = pyodbc.connect(**source_db_config)\n",
    "  else:\n",
    "    return 'Error! unrecognised source database platform'\n",
    "  # loop through sql queries\n",
    "  for query in queries:\n",
    "    etl (query, source_cnx, target_cnx)    \n",
    "  # close the source db connection\n",
    "  source_cnx.close()"
   ]
  },
  {
   "cell_type": "code",
   "execution_count": null,
   "id": "74423423",
   "metadata": {},
   "outputs": [],
   "source": []
  }
 ],
 "metadata": {
  "kernelspec": {
   "display_name": "Python 3 (ipykernel)",
   "language": "python",
   "name": "python3"
  },
  "language_info": {
   "codemirror_mode": {
    "name": "ipython",
    "version": 3
   },
   "file_extension": ".py",
   "mimetype": "text/x-python",
   "name": "python",
   "nbconvert_exporter": "python",
   "pygments_lexer": "ipython3",
   "version": "3.9.12"
  }
 },
 "nbformat": 4,
 "nbformat_minor": 5
}
