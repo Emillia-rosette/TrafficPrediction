{
 "cells": [
  {
   "cell_type": "code",
   "execution_count": null,
   "id": "d28c63ba",
   "metadata": {},
   "outputs": [],
   "source": [
    "datawarehouse_name = 'your_dwh_name'\n",
    "# sql-server (target db, datawarehouse)\n",
    "datawarehouse_db_config = {\n",
    "  'Trusted_Connection': 'yes',\n",
    "  'driver': '{SQL Server}',\n",
    "  'server': 'datawarehouse_sql_server',\n",
    "  'database': '{}'.format(datawarehouse_name),\n",
    "  'user': 'your_db_uname',\n",
    "  'password': 'your_db_pword',\n",
    "  'autocommit': True,\n",
    "}\n",
    "# source db > sql-server\n",
    "sqlserver_db_config = [\n",
    "  {\n",
    "    'Trusted_Connection': 'yes',\n",
    "    'driver': '{SQL Server}',\n",
    "    'server': 'your_db_sql_server',\n",
    "    'database': 'db_1st',\n",
    "    'user': 'your_db_uname',\n",
    "    'password': 'your_db_pword',\n",
    "    'autocommit': True,\n",
    "  }\n",
    "]\n",
    "# source db > mysql\n",
    "mysql_db_config = [\n",
    "  {\n",
    "    'user': 'your_1_user',\n",
    "    'password': 'your_1_pword',\n",
    "    'host': 'db_connection_string_1',\n",
    "    'database': 'db_1st',\n",
    "  },\n",
    "  {\n",
    "    'user': 'your_2_user,\n",
    "    'password': 'your_2_password',\n",
    "    'host': 'db_connection_string_2',\n",
    "    'database': 'db_2nd',\n",
    "  },\n",
    "]"
   ]
  }
 ],
 "metadata": {
  "kernelspec": {
   "display_name": "Python 3 (ipykernel)",
   "language": "python",
   "name": "python3"
  },
  "language_info": {
   "codemirror_mode": {
    "name": "ipython",
    "version": 3
   },
   "file_extension": ".py",
   "mimetype": "text/x-python",
   "name": "python",
   "nbconvert_exporter": "python",
   "pygments_lexer": "ipython3",
   "version": "3.9.12"
  }
 },
 "nbformat": 4,
 "nbformat_minor": 5
}
